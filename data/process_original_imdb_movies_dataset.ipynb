{
 "cells": [
  {
   "cell_type": "code",
   "execution_count": 1,
   "metadata": {},
   "outputs": [],
   "source": [
    "# process original IMDb Dataset"
   ]
  },
  {
   "cell_type": "code",
   "execution_count": 10,
   "metadata": {},
   "outputs": [],
   "source": [
    "import pandas as pd\n",
    "import numpy as np\n",
    "from utilities import read_enum, convert_str_to_bitvalue, convert_tconst_to_indexnum, convert_enum_to_number"
   ]
  },
  {
   "cell_type": "code",
   "execution_count": 11,
   "metadata": {},
   "outputs": [
    {
     "name": "stderr",
     "output_type": "stream",
     "text": [
      "/home/niklas/anaconda3/lib/python3.7/site-packages/IPython/core/interactiveshell.py:3331: DtypeWarning: Columns (4,5) have mixed types.Specify dtype option on import or set low_memory=False.\n",
      "  exec(code_obj, self.user_global_ns, self.user_ns)\n"
     ]
    }
   ],
   "source": [
    "df = pd.read_csv(\"imdb-dataset/movies.tsv\", sep='\\t')"
   ]
  },
  {
   "cell_type": "code",
   "execution_count": 12,
   "metadata": {},
   "outputs": [],
   "source": [
    "df = df.replace(r'\\N', np.NaN)"
   ]
  },
  {
   "cell_type": "code",
   "execution_count": 13,
   "metadata": {},
   "outputs": [],
   "source": [
    "adult_df = df['isAdult']\n",
    "# isAdult contains wrong types. replace year number and /N by 0:\n",
    "adult_df.iloc[[1097887]] = 0\n",
    "adult_df.iloc[[1899188]] = 0\n",
    "adult_df.iloc[[2010336]] = 0\n",
    "adult_df.iloc[[2310796]] = 0\n",
    "adult_df.iloc[[3002818]] = 0\n",
    "adult_df.iloc[[9015226]] = 0\n",
    "adult_df.iloc[[1509428]] = 0\n",
    "adult_df.iloc[[2165247]] = 0\n",
    "adult_df.iloc[[8975356]] = 0\n",
    "adult_df.iloc[[6337318]] = 0\n",
    "adult_df = pd.to_numeric(adult_df)"
   ]
  },
  {
   "cell_type": "code",
   "execution_count": 14,
   "metadata": {},
   "outputs": [],
   "source": [
    "df['isAdult'] = adult_df"
   ]
  },
  {
   "cell_type": "code",
   "execution_count": 15,
   "metadata": {},
   "outputs": [],
   "source": [
    "df['startYear'] = np.floor(pd.to_numeric(df['startYear'], errors='coerce')).astype('Int64')"
   ]
  },
  {
   "cell_type": "code",
   "execution_count": 16,
   "metadata": {},
   "outputs": [],
   "source": [
    "df['runtimeMinutes'] = np.floor(pd.to_numeric(df['runtimeMinutes'], errors='coerce')).astype('Int64')\n",
    "df['endYear'] = np.floor(pd.to_numeric(df['endYear'], errors='coerce')).astype('Int64')"
   ]
  },
  {
   "cell_type": "code",
   "execution_count": 18,
   "metadata": {},
   "outputs": [],
   "source": [
    "df['titleType'] = df['titleType'].map(lambda a: convert_enum_to_number(a))"
   ]
  },
  {
   "cell_type": "code",
   "execution_count": 19,
   "metadata": {},
   "outputs": [],
   "source": [
    "df['tconst'] = df['tconst'].map(lambda a: convert_tconst_to_indexnum(a))"
   ]
  },
  {
   "cell_type": "code",
   "execution_count": 20,
   "metadata": {},
   "outputs": [],
   "source": [
    "df['genres'] = df['genres'].map(lambda a: convert_str_to_bitvalue(a))"
   ]
  },
  {
   "cell_type": "code",
   "execution_count": 21,
   "metadata": {},
   "outputs": [],
   "source": [
    "df['genres'] = np.floor(pd.to_numeric(df['genres'], errors='coerce')).astype('Int64')"
   ]
  },
  {
   "cell_type": "code",
   "execution_count": 22,
   "metadata": {},
   "outputs": [],
   "source": [
    "df.set_index('tconst', inplace=True)"
   ]
  },
  {
   "cell_type": "code",
   "execution_count": 23,
   "metadata": {},
   "outputs": [],
   "source": [
    "df_ratings = pd.read_csv(\"imdb-dataset/ratings.tsv\", sep='\\t')"
   ]
  },
  {
   "cell_type": "code",
   "execution_count": 24,
   "metadata": {},
   "outputs": [],
   "source": [
    "df_ratings['tconst'] = df_ratings['tconst'].map(lambda a: convert_tconst_to_indexnum(a))"
   ]
  },
  {
   "cell_type": "code",
   "execution_count": 25,
   "metadata": {},
   "outputs": [],
   "source": [
    "df_ratings.set_index('tconst', inplace=True)"
   ]
  },
  {
   "cell_type": "code",
   "execution_count": 26,
   "metadata": {},
   "outputs": [],
   "source": [
    "result_df = df.join(df_ratings)"
   ]
  },
  {
   "cell_type": "code",
   "execution_count": 27,
   "metadata": {},
   "outputs": [],
   "source": [
    "result_df['numVotes'] = np.floor(pd.to_numeric(result_df['numVotes'], errors='coerce')).astype('Int64')"
   ]
  },
  {
   "cell_type": "code",
   "execution_count": 28,
   "metadata": {},
   "outputs": [],
   "source": [
    "mapping = {\n",
    "    \"tconst\":\"ID\",\n",
    "    \"titleType\": \"MOVIE_TYPE\",\n",
    "    \"primaryTitle\":\"PRIMARY_TITLE\", \n",
    "    \"originalTitle\":\"ORIGINAL_TITLE\", \n",
    "    \"isAdult\":\"IS_ADULT\", \n",
    "    \"startYear\":\"START_YEAR\", \n",
    "    \"endYear\":\"END_YEAR\", \n",
    "    \"runtimeMinutes\": \"RUNTIME_MINUTES\", \n",
    "    \"genres\":\"MOVIE_GENRE\",\n",
    "    \"averageRating\": \"IMDB_RATING\",\n",
    "    \"numVotes\": \"IMDB_RATING_COUNT\",\n",
    "}\n",
    "result_df = result_df.rename(columns=mapping)\n",
    "result_df.index.names = ['ID']"
   ]
  },
  {
   "cell_type": "code",
   "execution_count": 29,
   "metadata": {},
   "outputs": [
    {
     "data": {
      "text/html": [
       "<div>\n",
       "<style scoped>\n",
       "    .dataframe tbody tr th:only-of-type {\n",
       "        vertical-align: middle;\n",
       "    }\n",
       "\n",
       "    .dataframe tbody tr th {\n",
       "        vertical-align: top;\n",
       "    }\n",
       "\n",
       "    .dataframe thead th {\n",
       "        text-align: right;\n",
       "    }\n",
       "</style>\n",
       "<table border=\"1\" class=\"dataframe\">\n",
       "  <thead>\n",
       "    <tr style=\"text-align: right;\">\n",
       "      <th></th>\n",
       "      <th>MOVIE_TYPE</th>\n",
       "      <th>PRIMARY_TITLE</th>\n",
       "      <th>ORIGINAL_TITLE</th>\n",
       "      <th>IS_ADULT</th>\n",
       "      <th>START_YEAR</th>\n",
       "      <th>END_YEAR</th>\n",
       "      <th>RUNTIME_MINUTES</th>\n",
       "      <th>MOVIE_GENRE</th>\n",
       "      <th>IMDB_RATING</th>\n",
       "      <th>IMDB_RATING_COUNT</th>\n",
       "    </tr>\n",
       "    <tr>\n",
       "      <th>ID</th>\n",
       "      <th></th>\n",
       "      <th></th>\n",
       "      <th></th>\n",
       "      <th></th>\n",
       "      <th></th>\n",
       "      <th></th>\n",
       "      <th></th>\n",
       "      <th></th>\n",
       "      <th></th>\n",
       "      <th></th>\n",
       "    </tr>\n",
       "  </thead>\n",
       "  <tbody>\n",
       "    <tr>\n",
       "      <th>1</th>\n",
       "      <td>1</td>\n",
       "      <td>Carmencita</td>\n",
       "      <td>Carmencita</td>\n",
       "      <td>0</td>\n",
       "      <td>1894</td>\n",
       "      <td>&lt;NA&gt;</td>\n",
       "      <td>1</td>\n",
       "      <td>270532609</td>\n",
       "      <td>5.7</td>\n",
       "      <td>1892</td>\n",
       "    </tr>\n",
       "    <tr>\n",
       "      <th>2</th>\n",
       "      <td>1</td>\n",
       "      <td>Le clown et ses chiens</td>\n",
       "      <td>Le clown et ses chiens</td>\n",
       "      <td>0</td>\n",
       "      <td>1892</td>\n",
       "      <td>&lt;NA&gt;</td>\n",
       "      <td>5</td>\n",
       "      <td>268437505</td>\n",
       "      <td>5.9</td>\n",
       "      <td>252</td>\n",
       "    </tr>\n",
       "    <tr>\n",
       "      <th>3</th>\n",
       "      <td>1</td>\n",
       "      <td>Pauvre Pierrot</td>\n",
       "      <td>Pauvre Pierrot</td>\n",
       "      <td>0</td>\n",
       "      <td>1892</td>\n",
       "      <td>&lt;NA&gt;</td>\n",
       "      <td>4</td>\n",
       "      <td>35841</td>\n",
       "      <td>6.5</td>\n",
       "      <td>1685</td>\n",
       "    </tr>\n",
       "    <tr>\n",
       "      <th>4</th>\n",
       "      <td>1</td>\n",
       "      <td>Un bon bock</td>\n",
       "      <td>Un bon bock</td>\n",
       "      <td>0</td>\n",
       "      <td>1892</td>\n",
       "      <td>&lt;NA&gt;</td>\n",
       "      <td>12</td>\n",
       "      <td>268437505</td>\n",
       "      <td>5.7</td>\n",
       "      <td>165</td>\n",
       "    </tr>\n",
       "    <tr>\n",
       "      <th>5</th>\n",
       "      <td>1</td>\n",
       "      <td>Blacksmith Scene</td>\n",
       "      <td>Blacksmith Scene</td>\n",
       "      <td>0</td>\n",
       "      <td>1893</td>\n",
       "      <td>&lt;NA&gt;</td>\n",
       "      <td>1</td>\n",
       "      <td>268436481</td>\n",
       "      <td>6.2</td>\n",
       "      <td>2499</td>\n",
       "    </tr>\n",
       "    <tr>\n",
       "      <th>...</th>\n",
       "      <td>...</td>\n",
       "      <td>...</td>\n",
       "      <td>...</td>\n",
       "      <td>...</td>\n",
       "      <td>...</td>\n",
       "      <td>...</td>\n",
       "      <td>...</td>\n",
       "      <td>...</td>\n",
       "      <td>...</td>\n",
       "      <td>...</td>\n",
       "    </tr>\n",
       "    <tr>\n",
       "      <th>9916848</th>\n",
       "      <td>5</td>\n",
       "      <td>Episode #3.17</td>\n",
       "      <td>Episode #3.17</td>\n",
       "      <td>0</td>\n",
       "      <td>2010</td>\n",
       "      <td>&lt;NA&gt;</td>\n",
       "      <td>&lt;NA&gt;</td>\n",
       "      <td>17025</td>\n",
       "      <td>NaN</td>\n",
       "      <td>&lt;NA&gt;</td>\n",
       "    </tr>\n",
       "    <tr>\n",
       "      <th>9916850</th>\n",
       "      <td>5</td>\n",
       "      <td>Episode #3.19</td>\n",
       "      <td>Episode #3.19</td>\n",
       "      <td>0</td>\n",
       "      <td>2010</td>\n",
       "      <td>&lt;NA&gt;</td>\n",
       "      <td>&lt;NA&gt;</td>\n",
       "      <td>17025</td>\n",
       "      <td>NaN</td>\n",
       "      <td>&lt;NA&gt;</td>\n",
       "    </tr>\n",
       "    <tr>\n",
       "      <th>9916852</th>\n",
       "      <td>5</td>\n",
       "      <td>Episode #3.20</td>\n",
       "      <td>Episode #3.20</td>\n",
       "      <td>0</td>\n",
       "      <td>2010</td>\n",
       "      <td>&lt;NA&gt;</td>\n",
       "      <td>&lt;NA&gt;</td>\n",
       "      <td>17025</td>\n",
       "      <td>NaN</td>\n",
       "      <td>&lt;NA&gt;</td>\n",
       "    </tr>\n",
       "    <tr>\n",
       "      <th>9916856</th>\n",
       "      <td>1</td>\n",
       "      <td>The Wind</td>\n",
       "      <td>The Wind</td>\n",
       "      <td>0</td>\n",
       "      <td>2015</td>\n",
       "      <td>&lt;NA&gt;</td>\n",
       "      <td>27</td>\n",
       "      <td>268435457</td>\n",
       "      <td>NaN</td>\n",
       "      <td>&lt;NA&gt;</td>\n",
       "    </tr>\n",
       "    <tr>\n",
       "      <th>9916880</th>\n",
       "      <td>5</td>\n",
       "      <td>Horrid Henry Knows It All</td>\n",
       "      <td>Horrid Henry Knows It All</td>\n",
       "      <td>0</td>\n",
       "      <td>2014</td>\n",
       "      <td>&lt;NA&gt;</td>\n",
       "      <td>10</td>\n",
       "      <td>3329</td>\n",
       "      <td>NaN</td>\n",
       "      <td>&lt;NA&gt;</td>\n",
       "    </tr>\n",
       "  </tbody>\n",
       "</table>\n",
       "<p>9018777 rows × 10 columns</p>\n",
       "</div>"
      ],
      "text/plain": [
       "         MOVIE_TYPE              PRIMARY_TITLE             ORIGINAL_TITLE  \\\n",
       "ID                                                                          \n",
       "1                 1                 Carmencita                 Carmencita   \n",
       "2                 1     Le clown et ses chiens     Le clown et ses chiens   \n",
       "3                 1             Pauvre Pierrot             Pauvre Pierrot   \n",
       "4                 1                Un bon bock                Un bon bock   \n",
       "5                 1           Blacksmith Scene           Blacksmith Scene   \n",
       "...             ...                        ...                        ...   \n",
       "9916848           5              Episode #3.17              Episode #3.17   \n",
       "9916850           5              Episode #3.19              Episode #3.19   \n",
       "9916852           5              Episode #3.20              Episode #3.20   \n",
       "9916856           1                   The Wind                   The Wind   \n",
       "9916880           5  Horrid Henry Knows It All  Horrid Henry Knows It All   \n",
       "\n",
       "         IS_ADULT  START_YEAR  END_YEAR  RUNTIME_MINUTES  MOVIE_GENRE  \\\n",
       "ID                                                                      \n",
       "1               0        1894      <NA>                1    270532609   \n",
       "2               0        1892      <NA>                5    268437505   \n",
       "3               0        1892      <NA>                4        35841   \n",
       "4               0        1892      <NA>               12    268437505   \n",
       "5               0        1893      <NA>                1    268436481   \n",
       "...           ...         ...       ...              ...          ...   \n",
       "9916848         0        2010      <NA>             <NA>        17025   \n",
       "9916850         0        2010      <NA>             <NA>        17025   \n",
       "9916852         0        2010      <NA>             <NA>        17025   \n",
       "9916856         0        2015      <NA>               27    268435457   \n",
       "9916880         0        2014      <NA>               10         3329   \n",
       "\n",
       "         IMDB_RATING  IMDB_RATING_COUNT  \n",
       "ID                                       \n",
       "1                5.7               1892  \n",
       "2                5.9                252  \n",
       "3                6.5               1685  \n",
       "4                5.7                165  \n",
       "5                6.2               2499  \n",
       "...              ...                ...  \n",
       "9916848          NaN               <NA>  \n",
       "9916850          NaN               <NA>  \n",
       "9916852          NaN               <NA>  \n",
       "9916856          NaN               <NA>  \n",
       "9916880          NaN               <NA>  \n",
       "\n",
       "[9018777 rows x 10 columns]"
      ]
     },
     "execution_count": 29,
     "metadata": {},
     "output_type": "execute_result"
    }
   ],
   "source": [
    "result_df"
   ]
  },
  {
   "cell_type": "code",
   "execution_count": 20,
   "metadata": {},
   "outputs": [],
   "source": [
    "result_df.to_csv('processed_imdb_movies.csv')"
   ]
  },
  {
   "cell_type": "code",
   "execution_count": 32,
   "metadata": {},
   "outputs": [
    {
     "data": {
      "text/plain": [
       "ID\n",
       "1          1894\n",
       "2          1892\n",
       "3          1892\n",
       "4          1892\n",
       "5          1893\n",
       "           ... \n",
       "9916848    2010\n",
       "9916850    2010\n",
       "9916852    2010\n",
       "9916856    2015\n",
       "9916880    2014\n",
       "Name: START_YEAR, Length: 9018777, dtype: Int64"
      ]
     },
     "execution_count": 32,
     "metadata": {},
     "output_type": "execute_result"
    }
   ],
   "source": [
    "result_df['START_YEAR']"
   ]
  },
  {
   "cell_type": "code",
   "execution_count": null,
   "metadata": {},
   "outputs": [],
   "source": []
  },
  {
   "cell_type": "code",
   "execution_count": 33,
   "metadata": {},
   "outputs": [],
   "source": [
    "df = pd.read_csv(\"processed_imdb_movies.csv\")"
   ]
  },
  {
   "cell_type": "code",
   "execution_count": 42,
   "metadata": {},
   "outputs": [],
   "source": [
    "df['START_YEAR'] = np.floor(pd.to_numeric(df['START_YEAR'], errors='coerce')).astype('Int64')"
   ]
  },
  {
   "cell_type": "code",
   "execution_count": 43,
   "metadata": {},
   "outputs": [
    {
     "data": {
      "text/plain": [
       "0          1894\n",
       "1          1892\n",
       "2          1892\n",
       "3          1892\n",
       "4          1893\n",
       "           ... \n",
       "9018772    2010\n",
       "9018773    2010\n",
       "9018774    2010\n",
       "9018775    2015\n",
       "9018776    2014\n",
       "Name: START_YEAR, Length: 9018777, dtype: Int64"
      ]
     },
     "execution_count": 43,
     "metadata": {},
     "output_type": "execute_result"
    }
   ],
   "source": [
    "df['START_YEAR']"
   ]
  },
  {
   "cell_type": "code",
   "execution_count": 38,
   "metadata": {},
   "outputs": [],
   "source": [
    "result_df.to_csv('processed_imdb_movies2.csv')"
   ]
  },
  {
   "cell_type": "code",
   "execution_count": 37,
   "metadata": {},
   "outputs": [
    {
     "data": {
      "text/html": [
       "<div>\n",
       "<style scoped>\n",
       "    .dataframe tbody tr th:only-of-type {\n",
       "        vertical-align: middle;\n",
       "    }\n",
       "\n",
       "    .dataframe tbody tr th {\n",
       "        vertical-align: top;\n",
       "    }\n",
       "\n",
       "    .dataframe thead th {\n",
       "        text-align: right;\n",
       "    }\n",
       "</style>\n",
       "<table border=\"1\" class=\"dataframe\">\n",
       "  <thead>\n",
       "    <tr style=\"text-align: right;\">\n",
       "      <th></th>\n",
       "      <th>MOVIE_TYPE</th>\n",
       "      <th>PRIMARY_TITLE</th>\n",
       "      <th>ORIGINAL_TITLE</th>\n",
       "      <th>IS_ADULT</th>\n",
       "      <th>START_YEAR</th>\n",
       "      <th>END_YEAR</th>\n",
       "      <th>RUNTIME_MINUTES</th>\n",
       "      <th>MOVIE_GENRE</th>\n",
       "      <th>IMDB_RATING</th>\n",
       "      <th>IMDB_RATING_COUNT</th>\n",
       "    </tr>\n",
       "    <tr>\n",
       "      <th>ID</th>\n",
       "      <th></th>\n",
       "      <th></th>\n",
       "      <th></th>\n",
       "      <th></th>\n",
       "      <th></th>\n",
       "      <th></th>\n",
       "      <th></th>\n",
       "      <th></th>\n",
       "      <th></th>\n",
       "      <th></th>\n",
       "    </tr>\n",
       "  </thead>\n",
       "  <tbody>\n",
       "    <tr>\n",
       "      <th>1</th>\n",
       "      <td>1</td>\n",
       "      <td>Carmencita</td>\n",
       "      <td>Carmencita</td>\n",
       "      <td>0</td>\n",
       "      <td>1894</td>\n",
       "      <td>&lt;NA&gt;</td>\n",
       "      <td>1</td>\n",
       "      <td>270532609</td>\n",
       "      <td>5.7</td>\n",
       "      <td>1892</td>\n",
       "    </tr>\n",
       "    <tr>\n",
       "      <th>2</th>\n",
       "      <td>1</td>\n",
       "      <td>Le clown et ses chiens</td>\n",
       "      <td>Le clown et ses chiens</td>\n",
       "      <td>0</td>\n",
       "      <td>1892</td>\n",
       "      <td>&lt;NA&gt;</td>\n",
       "      <td>5</td>\n",
       "      <td>268437505</td>\n",
       "      <td>5.9</td>\n",
       "      <td>252</td>\n",
       "    </tr>\n",
       "    <tr>\n",
       "      <th>3</th>\n",
       "      <td>1</td>\n",
       "      <td>Pauvre Pierrot</td>\n",
       "      <td>Pauvre Pierrot</td>\n",
       "      <td>0</td>\n",
       "      <td>1892</td>\n",
       "      <td>&lt;NA&gt;</td>\n",
       "      <td>4</td>\n",
       "      <td>35841</td>\n",
       "      <td>6.5</td>\n",
       "      <td>1685</td>\n",
       "    </tr>\n",
       "    <tr>\n",
       "      <th>4</th>\n",
       "      <td>1</td>\n",
       "      <td>Un bon bock</td>\n",
       "      <td>Un bon bock</td>\n",
       "      <td>0</td>\n",
       "      <td>1892</td>\n",
       "      <td>&lt;NA&gt;</td>\n",
       "      <td>12</td>\n",
       "      <td>268437505</td>\n",
       "      <td>5.7</td>\n",
       "      <td>165</td>\n",
       "    </tr>\n",
       "    <tr>\n",
       "      <th>5</th>\n",
       "      <td>1</td>\n",
       "      <td>Blacksmith Scene</td>\n",
       "      <td>Blacksmith Scene</td>\n",
       "      <td>0</td>\n",
       "      <td>1893</td>\n",
       "      <td>&lt;NA&gt;</td>\n",
       "      <td>1</td>\n",
       "      <td>268436481</td>\n",
       "      <td>6.2</td>\n",
       "      <td>2499</td>\n",
       "    </tr>\n",
       "    <tr>\n",
       "      <th>...</th>\n",
       "      <td>...</td>\n",
       "      <td>...</td>\n",
       "      <td>...</td>\n",
       "      <td>...</td>\n",
       "      <td>...</td>\n",
       "      <td>...</td>\n",
       "      <td>...</td>\n",
       "      <td>...</td>\n",
       "      <td>...</td>\n",
       "      <td>...</td>\n",
       "    </tr>\n",
       "    <tr>\n",
       "      <th>9916848</th>\n",
       "      <td>5</td>\n",
       "      <td>Episode #3.17</td>\n",
       "      <td>Episode #3.17</td>\n",
       "      <td>0</td>\n",
       "      <td>2010</td>\n",
       "      <td>&lt;NA&gt;</td>\n",
       "      <td>&lt;NA&gt;</td>\n",
       "      <td>17025</td>\n",
       "      <td>NaN</td>\n",
       "      <td>&lt;NA&gt;</td>\n",
       "    </tr>\n",
       "    <tr>\n",
       "      <th>9916850</th>\n",
       "      <td>5</td>\n",
       "      <td>Episode #3.19</td>\n",
       "      <td>Episode #3.19</td>\n",
       "      <td>0</td>\n",
       "      <td>2010</td>\n",
       "      <td>&lt;NA&gt;</td>\n",
       "      <td>&lt;NA&gt;</td>\n",
       "      <td>17025</td>\n",
       "      <td>NaN</td>\n",
       "      <td>&lt;NA&gt;</td>\n",
       "    </tr>\n",
       "    <tr>\n",
       "      <th>9916852</th>\n",
       "      <td>5</td>\n",
       "      <td>Episode #3.20</td>\n",
       "      <td>Episode #3.20</td>\n",
       "      <td>0</td>\n",
       "      <td>2010</td>\n",
       "      <td>&lt;NA&gt;</td>\n",
       "      <td>&lt;NA&gt;</td>\n",
       "      <td>17025</td>\n",
       "      <td>NaN</td>\n",
       "      <td>&lt;NA&gt;</td>\n",
       "    </tr>\n",
       "    <tr>\n",
       "      <th>9916856</th>\n",
       "      <td>1</td>\n",
       "      <td>The Wind</td>\n",
       "      <td>The Wind</td>\n",
       "      <td>0</td>\n",
       "      <td>2015</td>\n",
       "      <td>&lt;NA&gt;</td>\n",
       "      <td>27</td>\n",
       "      <td>268435457</td>\n",
       "      <td>NaN</td>\n",
       "      <td>&lt;NA&gt;</td>\n",
       "    </tr>\n",
       "    <tr>\n",
       "      <th>9916880</th>\n",
       "      <td>5</td>\n",
       "      <td>Horrid Henry Knows It All</td>\n",
       "      <td>Horrid Henry Knows It All</td>\n",
       "      <td>0</td>\n",
       "      <td>2014</td>\n",
       "      <td>&lt;NA&gt;</td>\n",
       "      <td>10</td>\n",
       "      <td>3329</td>\n",
       "      <td>NaN</td>\n",
       "      <td>&lt;NA&gt;</td>\n",
       "    </tr>\n",
       "  </tbody>\n",
       "</table>\n",
       "<p>9018777 rows × 10 columns</p>\n",
       "</div>"
      ],
      "text/plain": [
       "         MOVIE_TYPE              PRIMARY_TITLE             ORIGINAL_TITLE  \\\n",
       "ID                                                                          \n",
       "1                 1                 Carmencita                 Carmencita   \n",
       "2                 1     Le clown et ses chiens     Le clown et ses chiens   \n",
       "3                 1             Pauvre Pierrot             Pauvre Pierrot   \n",
       "4                 1                Un bon bock                Un bon bock   \n",
       "5                 1           Blacksmith Scene           Blacksmith Scene   \n",
       "...             ...                        ...                        ...   \n",
       "9916848           5              Episode #3.17              Episode #3.17   \n",
       "9916850           5              Episode #3.19              Episode #3.19   \n",
       "9916852           5              Episode #3.20              Episode #3.20   \n",
       "9916856           1                   The Wind                   The Wind   \n",
       "9916880           5  Horrid Henry Knows It All  Horrid Henry Knows It All   \n",
       "\n",
       "         IS_ADULT  START_YEAR  END_YEAR  RUNTIME_MINUTES  MOVIE_GENRE  \\\n",
       "ID                                                                      \n",
       "1               0        1894      <NA>                1    270532609   \n",
       "2               0        1892      <NA>                5    268437505   \n",
       "3               0        1892      <NA>                4        35841   \n",
       "4               0        1892      <NA>               12    268437505   \n",
       "5               0        1893      <NA>                1    268436481   \n",
       "...           ...         ...       ...              ...          ...   \n",
       "9916848         0        2010      <NA>             <NA>        17025   \n",
       "9916850         0        2010      <NA>             <NA>        17025   \n",
       "9916852         0        2010      <NA>             <NA>        17025   \n",
       "9916856         0        2015      <NA>               27    268435457   \n",
       "9916880         0        2014      <NA>               10         3329   \n",
       "\n",
       "         IMDB_RATING  IMDB_RATING_COUNT  \n",
       "ID                                       \n",
       "1                5.7               1892  \n",
       "2                5.9                252  \n",
       "3                6.5               1685  \n",
       "4                5.7                165  \n",
       "5                6.2               2499  \n",
       "...              ...                ...  \n",
       "9916848          NaN               <NA>  \n",
       "9916850          NaN               <NA>  \n",
       "9916852          NaN               <NA>  \n",
       "9916856          NaN               <NA>  \n",
       "9916880          NaN               <NA>  \n",
       "\n",
       "[9018777 rows x 10 columns]"
      ]
     },
     "execution_count": 37,
     "metadata": {},
     "output_type": "execute_result"
    }
   ],
   "source": [
    "result_df"
   ]
  },
  {
   "cell_type": "code",
   "execution_count": 39,
   "metadata": {},
   "outputs": [],
   "source": [
    "df = pd.read_csv(\"processed_imdb_movies2.csv\")"
   ]
  },
  {
   "cell_type": "code",
   "execution_count": 48,
   "metadata": {},
   "outputs": [
    {
     "data": {
      "text/plain": [
       "0           1.0\n",
       "1           5.0\n",
       "2           4.0\n",
       "3          12.0\n",
       "4           1.0\n",
       "           ... \n",
       "9018772     NaN\n",
       "9018773     NaN\n",
       "9018774     NaN\n",
       "9018775    27.0\n",
       "9018776    10.0\n",
       "Name: RUNTIME_MINUTES, Length: 9018777, dtype: float64"
      ]
     },
     "execution_count": 48,
     "metadata": {},
     "output_type": "execute_result"
    }
   ],
   "source": [
    "df['RUNTIME_MINUTES']"
   ]
  },
  {
   "cell_type": "code",
   "execution_count": null,
   "metadata": {},
   "outputs": [],
   "source": []
  },
  {
   "cell_type": "code",
   "execution_count": 44,
   "metadata": {},
   "outputs": [
    {
     "data": {
      "text/plain": [
       "0          1894\n",
       "1          1892\n",
       "4          1893\n",
       "9          1895\n",
       "11         1896\n",
       "           ... \n",
       "4854857    2029\n",
       "5305141    1887\n",
       "5976879    1874\n",
       "6992101    1883\n",
       "8406855    1885\n",
       "Name: START_YEAR, Length: 151, dtype: Int64"
      ]
     },
     "execution_count": 44,
     "metadata": {},
     "output_type": "execute_result"
    }
   ],
   "source": [
    "df['START_YEAR'].drop_duplicates()"
   ]
  },
  {
   "cell_type": "code",
   "execution_count": 45,
   "metadata": {},
   "outputs": [],
   "source": [
    "df['START_YEAR'].drop_duplicates().to_csv('startyearset.csv')"
   ]
  },
  {
   "cell_type": "code",
   "execution_count": null,
   "metadata": {},
   "outputs": [],
   "source": [
    "adult_df.iloc[[65761]] = 0"
   ]
  },
  {
   "cell_type": "code",
   "execution_count": 46,
   "metadata": {},
   "outputs": [
    {
     "data": {
      "text/plain": [
       "1199186"
      ]
     },
     "execution_count": 46,
     "metadata": {},
     "output_type": "execute_result"
    }
   ],
   "source": [
    "df['START_YEAR'].isnull().values.ravel().sum()"
   ]
  },
  {
   "cell_type": "code",
   "execution_count": null,
   "metadata": {},
   "outputs": [],
   "source": []
  },
  {
   "cell_type": "code",
   "execution_count": null,
   "metadata": {},
   "outputs": [],
   "source": []
  },
  {
   "cell_type": "code",
   "execution_count": null,
   "metadata": {},
   "outputs": [],
   "source": []
  },
  {
   "cell_type": "code",
   "execution_count": null,
   "metadata": {},
   "outputs": [],
   "source": []
  },
  {
   "cell_type": "code",
   "execution_count": null,
   "metadata": {},
   "outputs": [],
   "source": []
  }
 ],
 "metadata": {
  "kernelspec": {
   "display_name": "Python 3",
   "language": "python",
   "name": "python3"
  },
  "language_info": {
   "codemirror_mode": {
    "name": "ipython",
    "version": 3
   },
   "file_extension": ".py",
   "mimetype": "text/x-python",
   "name": "python",
   "nbconvert_exporter": "python",
   "pygments_lexer": "ipython3",
   "version": "3.7.3"
  }
 },
 "nbformat": 4,
 "nbformat_minor": 4
}
