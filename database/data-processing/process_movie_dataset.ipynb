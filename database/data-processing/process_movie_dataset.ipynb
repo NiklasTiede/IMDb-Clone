{
 "cells": [
  {
   "cell_type": "code",
   "execution_count": 1,
   "metadata": {
    "pycharm": {
     "name": "#%%\n"
    }
   },
   "outputs": [],
   "source": [
    "# process original IMDb Dataset"
   ]
  },
  {
   "cell_type": "code",
   "execution_count": 1,
   "metadata": {
    "pycharm": {
     "name": "#%%\n"
    }
   },
   "outputs": [],
   "source": [
    "import pandas as pd\n",
    "import numpy as np\n",
    "from utilities import convert_str_to_bitvalue, convert_tconst_to_indexnum, convert_enum_to_number"
   ]
  },
  {
   "cell_type": "code",
   "execution_count": 2,
   "metadata": {
    "pycharm": {
     "name": "#%%\n"
    }
   },
   "outputs": [
    {
     "name": "stderr",
     "output_type": "stream",
     "text": [
      "/home/niklas/anaconda3/lib/python3.7/site-packages/IPython/core/interactiveshell.py:3331: DtypeWarning: Columns (4,5) have mixed types.Specify dtype option on import or set low_memory=False.\n",
      "  exec(code_obj, self.user_global_ns, self.user_ns)\n"
     ]
    }
   ],
   "source": [
    "df = pd.read_csv(\"imdb-dataset/movies.tsv\", sep='\\t')"
   ]
  },
  {
   "cell_type": "code",
   "execution_count": 4,
   "metadata": {
    "pycharm": {
     "name": "#%%\n"
    }
   },
   "outputs": [],
   "source": [
    "adult_df = df['isAdult']\n",
    "# isAdult contains wrong types. replace year number and /N by 0:\n",
    "adult_df.iloc[[1097887]] = \"\\\\N\"\n",
    "adult_df.iloc[[1899188]] = \"\\\\N\"\n",
    "adult_df.iloc[[2010336]] = \"\\\\N\"\n",
    "adult_df.iloc[[2310796]] = \"\\\\N\"\n",
    "adult_df.iloc[[9015226]] = \"\\\\N\"\n",
    "adult_df.iloc[[1509428]] = \"\\\\N\"\n",
    "adult_df.iloc[[2165247]] = \"\\\\N\"\n",
    "adult_df.iloc[[8975356]] = \"\\\\N\"\n",
    "adult_df.iloc[[6337318]] = \"\\\\N\""
   ]
  },
  {
   "cell_type": "code",
   "execution_count": 5,
   "metadata": {
    "pycharm": {
     "name": "#%%\n"
    }
   },
   "outputs": [],
   "source": [
    "df['isAdult'] = adult_df"
   ]
  },
  {
   "cell_type": "code",
   "execution_count": 8,
   "metadata": {
    "pycharm": {
     "name": "#%%\n"
    }
   },
   "outputs": [],
   "source": [
    "df['titleType'] = df['titleType'].map(lambda a: convert_enum_to_number(a))"
   ]
  },
  {
   "cell_type": "code",
   "execution_count": 9,
   "metadata": {
    "pycharm": {
     "name": "#%%\n"
    }
   },
   "outputs": [],
   "source": [
    "df['tconst'] = df['tconst'].map(lambda a: convert_tconst_to_indexnum(a))"
   ]
  },
  {
   "cell_type": "code",
   "execution_count": 10,
   "metadata": {
    "pycharm": {
     "name": "#%%\n"
    }
   },
   "outputs": [],
   "source": [
    "# calculation takes about 3 min\n",
    "df['genres'] = df['genres'].map(lambda a: convert_str_to_bitvalue(a))"
   ]
  },
  {
   "cell_type": "code",
   "execution_count": 12,
   "metadata": {
    "pycharm": {
     "name": "#%%\n"
    }
   },
   "outputs": [],
   "source": [
    "df.set_index('tconst', inplace=True)"
   ]
  },
  {
   "cell_type": "code",
   "execution_count": 13,
   "metadata": {
    "pycharm": {
     "name": "#%%\n"
    }
   },
   "outputs": [],
   "source": [
    "df_ratings = pd.read_csv(\"imdb-dataset/ratings.tsv\", sep='\\t')"
   ]
  },
  {
   "cell_type": "code",
   "execution_count": 14,
   "metadata": {
    "pycharm": {
     "name": "#%%\n"
    }
   },
   "outputs": [],
   "source": [
    "df_ratings['tconst'] = df_ratings['tconst'].map(lambda a: convert_tconst_to_indexnum(a))"
   ]
  },
  {
   "cell_type": "code",
   "execution_count": 15,
   "metadata": {
    "pycharm": {
     "name": "#%%\n"
    }
   },
   "outputs": [],
   "source": [
    "df_ratings.set_index('tconst', inplace=True)"
   ]
  },
  {
   "cell_type": "code",
   "execution_count": 16,
   "metadata": {
    "pycharm": {
     "name": "#%%\n"
    }
   },
   "outputs": [],
   "source": [
    "result_df = df.join(df_ratings)"
   ]
  },
  {
   "cell_type": "code",
   "execution_count": 17,
   "metadata": {
    "pycharm": {
     "name": "#%%\n"
    }
   },
   "outputs": [],
   "source": [
    "result_df['averageRating'] = result_df['averageRating'].replace(np.NaN, \"\\\\N\")"
   ]
  },
  {
   "cell_type": "code",
   "execution_count": 18,
   "metadata": {
    "pycharm": {
     "name": "#%%\n"
    }
   },
   "outputs": [],
   "source": [
    "result_df['numVotes'] = result_df['numVotes'].replace(np.NaN, \"\\\\N\")"
   ]
  },
  {
   "cell_type": "code",
   "execution_count": 19,
   "metadata": {
    "pycharm": {
     "name": "#%%\n"
    }
   },
   "outputs": [],
   "source": [
    "result_df.index.names = ['id']"
   ]
  },
  {
   "cell_type": "code",
   "execution_count": null,
   "metadata": {
    "pycharm": {
     "name": "#%%\n"
    }
   },
   "outputs": [],
   "source": [
    "# result_df['runtime_minutes'].apply(lambda x: find_string(x))\n",
    "# result_df.loc[result_df['runtime_minutes'] == 'Talk-Show']\n",
    "result_df.iloc[[1509428]] = \"\\\\N\"\n",
    "result_df.iloc[[2010336]] = \"\\\\N\"\n",
    "result_df.iloc[[8975356]] = \"\\\\N\"\n",
    "result_df.iloc[[9015226]] = \"\\\\N\"\n",
    "# result_df.loc[df['runtime_minutes'] == 'Game-Show,Reality-TV']\n",
    "result_df.iloc[[6337318]] = \"\\\\N\"\n",
    "# result_df.loc[df['runtime_minutes'] == 'Animation,Comedy,Family']\n",
    "result_df.iloc[[3002818]] = \"\\\\N\"\n",
    "# result_df.loc[df['runtime_minutes'] == 'Game-Show']\n",
    "result_df.iloc[[2165247]] = \"\\\\N\"\n",
    "# result_df.loc[df['runtime_minutes'] == 'Documentary']\n",
    "result_df.iloc[[1899188]] = \"\\\\N\"\n",
    "# result_df.loc[df['runtime_minutes'] == 'Reality-TV']\n",
    "result_df.iloc[[1097887]] = \"\\\\N\"\n",
    "result_df.iloc[[2310796]] = \"\\\\N\""
   ]
  },
  {
   "cell_type": "code",
   "execution_count": 21,
   "metadata": {
    "pycharm": {
     "name": "#%%\n"
    }
   },
   "outputs": [],
   "source": [
    "mapping = {\n",
    "    \"titleType\":\"movie_type\",\n",
    "    \"primaryTitle\":\"primary_title\", \n",
    "    \"originalTitle\":\"original_title\", \n",
    "    \"isAdult\":\"adult\", \n",
    "    \"startYear\":\"start_year\", \n",
    "    \"endYear\":\"end_year\", \n",
    "    \"runtimeMinutes\":\"runtime_minutes\", \n",
    "    \"genres\":\"movie_genre\",\n",
    "    \"averageRating\":\"imdb_rating\",\n",
    "    \"numVotes\":\"imdb_rating_count\",\n",
    "}"
   ]
  },
  {
   "cell_type": "code",
   "execution_count": 22,
   "metadata": {
    "pycharm": {
     "name": "#%%\n"
    }
   },
   "outputs": [],
   "source": [
    "result_df = result_df.rename(columns=mapping)"
   ]
  },
  {
   "cell_type": "code",
   "execution_count": null,
   "metadata": {
    "pycharm": {
     "name": "#%%\n"
    }
   },
   "outputs": [],
   "source": [
    "result_df.to_csv('processed_imdb_movies.csv')"
   ]
  }
 ],
 "metadata": {
  "kernelspec": {
   "display_name": "Python 3",
   "language": "python",
   "name": "python3"
  },
  "language_info": {
   "codemirror_mode": {
    "name": "ipython",
    "version": 3
   },
   "file_extension": ".py",
   "mimetype": "text/x-python",
   "name": "python",
   "nbconvert_exporter": "python",
   "pygments_lexer": "ipython3",
   "version": "3.7.3"
  }
 },
 "nbformat": 4,
 "nbformat_minor": 4
}